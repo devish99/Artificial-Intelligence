{
 "cells": [
  {
   "cell_type": "code",
   "execution_count": 2,
   "metadata": {
    "tags": []
   },
   "outputs": [
    {
     "output_type": "stream",
     "name": "stdout",
     "text": "Breadth First Search:\nS A B C D E F G"
    }
   ],
   "source": [
    "# Adjacency Graph\n",
    "# S is starting node\n",
    "myGraph = {                             \n",
    "            'S': ['A', 'B', 'C'],\n",
    "            'A': ['D'],\n",
    "            'B': ['E'],\n",
    "            'C': ['F'],\n",
    "            'D': ['G'],\n",
    "            'E': [],\n",
    "            'F': [],\n",
    "            'G': []\n",
    "    }\n",
    "\n",
    "# Using a Queue data stucture to hold values\n",
    "class myQueue:\n",
    "    def __init__(self):\n",
    "        self.queue = []\n",
    "\n",
    "    def emptyQueue(self):      # Condition for empty queue\n",
    "        if len(self.queue) == 0:\n",
    "            return True\n",
    "        \n",
    "    def enQueue(self, node):    # enqueue operation\n",
    "        self.queue = self.queue + [node]\n",
    "\n",
    "    def deQueue(self):          # dequeue operation\n",
    "        if self.emptyQueue:\n",
    "            head = self.queue[0]\n",
    "            self.queue = self.queue[1:]\n",
    "            return head\n",
    "        \n",
    "\n",
    "# Implementing Breadth First Search\n",
    "def bfs(myGraph, root_node):\n",
    "    queue = myQueue()                      \n",
    "    queue.enQueue(root_node)\n",
    "    visited = [root_node]                    # List to hold visited nodes\n",
    "    while(not queue.emptyQueue()):\n",
    "        node = queue.deQueue()           # Obtaining the head node\n",
    "        print(node, end=\" \")\n",
    "\n",
    "        for adjacent_node in myGraph[node]:     \n",
    "            if adjacent_node not in visited:  \n",
    "                visited.append(adjacent_node)\n",
    "                queue.enQueue(adjacent_node)  \n",
    "\n",
    "# Printing the final output    \n",
    "print('Breadth First Search:')\n",
    "bfs(myGraph, 'S')                      "
   ]
  },
  {
   "cell_type": "code",
   "execution_count": null,
   "metadata": {},
   "outputs": [],
   "source": []
  },
  {
   "cell_type": "code",
   "execution_count": null,
   "metadata": {},
   "outputs": [],
   "source": []
  },
  {
   "cell_type": "code",
   "execution_count": null,
   "metadata": {},
   "outputs": [],
   "source": []
  },
  {
   "cell_type": "code",
   "execution_count": null,
   "metadata": {},
   "outputs": [],
   "source": []
  }
 ],
 "metadata": {
  "kernelspec": {
   "display_name": "Python 3.7.5 64-bit",
   "language": "python",
   "name": "python_defaultSpec_1599748081256"
  },
  "language_info": {
   "codemirror_mode": {
    "name": "ipython",
    "version": 3
   },
   "file_extension": ".py",
   "mimetype": "text/x-python",
   "name": "python",
   "nbconvert_exporter": "python",
   "pygments_lexer": "ipython3",
   "version": "3.7.5-final"
  }
 },
 "nbformat": 4,
 "nbformat_minor": 4
}