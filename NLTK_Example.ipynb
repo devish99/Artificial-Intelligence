{
 "cells": [
  {
   "cell_type": "markdown",
   "metadata": {
    "id": "S36LEchN5bmP"
   },
   "source": [
    "DOWNLOAD and install NLTK "
   ]
  },
  {
   "cell_type": "code",
   "execution_count": null,
   "metadata": {
    "colab": {
     "base_uri": "https://localhost:8080/"
    },
    "id": "Rdron_kc5TI0",
    "outputId": "a2d1d0f5-281f-41c3-fe10-c0ced8045e91"
   },
   "outputs": [
    {
     "name": "stdout",
     "output_type": "stream",
     "text": [
      "Requirement already satisfied: nltk in /usr/local/lib/python3.6/dist-packages (3.2.5)\n",
      "Requirement already satisfied: six in /usr/local/lib/python3.6/dist-packages (from nltk) (1.15.0)\n"
     ]
    }
   ],
   "source": [
    "!pip install nltk"
   ]
  },
  {
   "cell_type": "markdown",
   "metadata": {
    "id": "cTJomKNA6AF2"
   },
   "source": [
    " Download all packages of NLTK"
   ]
  },
  {
   "cell_type": "code",
   "execution_count": null,
   "metadata": {
    "colab": {
     "base_uri": "https://localhost:8080/"
    },
    "id": "pc8qt0Ub53mj",
    "outputId": "7ca41569-548d-4a3c-b0c7-0dd7c8429988"
   },
   "outputs": [
    {
     "name": "stdout",
     "output_type": "stream",
     "text": [
      "NLTK Downloader\n",
      "---------------------------------------------------------------------------\n",
      "    d) Download   l) List    u) Update   c) Config   h) Help   q) Quit\n",
      "---------------------------------------------------------------------------\n",
      "Downloader> d\n",
      "\n",
      "Download which package (l=list; x=cancel)?\n",
      "  Identifier> all\n",
      "    Downloading collection 'all'\n",
      "       | \n",
      "       | Downloading package abc to /root/nltk_data...\n",
      "       |   Unzipping corpora/abc.zip.\n",
      "       | Downloading package alpino to /root/nltk_data...\n",
      "       |   Unzipping corpora/alpino.zip.\n",
      "       | Downloading package biocreative_ppi to /root/nltk_data...\n",
      "       |   Unzipping corpora/biocreative_ppi.zip.\n",
      "       | Downloading package brown to /root/nltk_data...\n",
      "       |   Unzipping corpora/brown.zip.\n",
      "       | Downloading package brown_tei to /root/nltk_data...\n",
      "       |   Unzipping corpora/brown_tei.zip.\n",
      "       | Downloading package cess_cat to /root/nltk_data...\n",
      "       |   Unzipping corpora/cess_cat.zip.\n",
      "       | Downloading package cess_esp to /root/nltk_data...\n",
      "       |   Unzipping corpora/cess_esp.zip.\n",
      "       | Downloading package chat80 to /root/nltk_data...\n",
      "       |   Unzipping corpora/chat80.zip.\n",
      "       | Downloading package city_database to /root/nltk_data...\n",
      "       |   Unzipping corpora/city_database.zip.\n",
      "       | Downloading package cmudict to /root/nltk_data...\n",
      "       |   Unzipping corpora/cmudict.zip.\n",
      "       | Downloading package comparative_sentences to\n",
      "       |     /root/nltk_data...\n",
      "       |   Unzipping corpora/comparative_sentences.zip.\n",
      "       | Downloading package comtrans to /root/nltk_data...\n",
      "       | Downloading package conll2000 to /root/nltk_data...\n",
      "       |   Unzipping corpora/conll2000.zip.\n",
      "       | Downloading package conll2002 to /root/nltk_data...\n",
      "       |   Unzipping corpora/conll2002.zip.\n",
      "       | Downloading package conll2007 to /root/nltk_data...\n",
      "       | Downloading package crubadan to /root/nltk_data...\n",
      "       |   Unzipping corpora/crubadan.zip.\n",
      "       | Downloading package dependency_treebank to /root/nltk_data...\n",
      "       |   Unzipping corpora/dependency_treebank.zip.\n",
      "       | Downloading package dolch to /root/nltk_data...\n",
      "       |   Unzipping corpora/dolch.zip.\n",
      "       | Downloading package europarl_raw to /root/nltk_data...\n",
      "       |   Unzipping corpora/europarl_raw.zip.\n",
      "       | Downloading package floresta to /root/nltk_data...\n",
      "       |   Unzipping corpora/floresta.zip.\n",
      "       | Downloading package framenet_v15 to /root/nltk_data...\n",
      "       |   Unzipping corpora/framenet_v15.zip.\n",
      "       | Downloading package framenet_v17 to /root/nltk_data...\n",
      "       |   Unzipping corpora/framenet_v17.zip.\n",
      "       | Downloading package gazetteers to /root/nltk_data...\n",
      "       |   Unzipping corpora/gazetteers.zip.\n",
      "       | Downloading package genesis to /root/nltk_data...\n",
      "       |   Unzipping corpora/genesis.zip.\n",
      "       | Downloading package gutenberg to /root/nltk_data...\n",
      "       |   Unzipping corpora/gutenberg.zip.\n",
      "       | Downloading package ieer to /root/nltk_data...\n",
      "       |   Unzipping corpora/ieer.zip.\n",
      "       | Downloading package inaugural to /root/nltk_data...\n",
      "       |   Unzipping corpora/inaugural.zip.\n",
      "       | Downloading package indian to /root/nltk_data...\n",
      "       |   Unzipping corpora/indian.zip.\n",
      "       | Downloading package jeita to /root/nltk_data...\n",
      "       | Downloading package kimmo to /root/nltk_data...\n",
      "       |   Unzipping corpora/kimmo.zip.\n",
      "       | Downloading package knbc to /root/nltk_data...\n",
      "       | Downloading package lin_thesaurus to /root/nltk_data...\n",
      "       |   Unzipping corpora/lin_thesaurus.zip.\n",
      "       | Downloading package mac_morpho to /root/nltk_data...\n",
      "       |   Unzipping corpora/mac_morpho.zip.\n",
      "       | Downloading package machado to /root/nltk_data...\n",
      "       | Downloading package masc_tagged to /root/nltk_data...\n",
      "       | Downloading package moses_sample to /root/nltk_data...\n",
      "       |   Unzipping models/moses_sample.zip.\n",
      "       | Downloading package movie_reviews to /root/nltk_data...\n",
      "       |   Unzipping corpora/movie_reviews.zip.\n",
      "       | Downloading package names to /root/nltk_data...\n",
      "       |   Unzipping corpora/names.zip.\n",
      "       | Downloading package nombank.1.0 to /root/nltk_data...\n",
      "       | Downloading package nps_chat to /root/nltk_data...\n",
      "       |   Unzipping corpora/nps_chat.zip.\n",
      "       | Downloading package omw to /root/nltk_data...\n",
      "       |   Unzipping corpora/omw.zip.\n",
      "       | Downloading package opinion_lexicon to /root/nltk_data...\n",
      "       |   Unzipping corpora/opinion_lexicon.zip.\n",
      "       | Downloading package paradigms to /root/nltk_data...\n",
      "       |   Unzipping corpora/paradigms.zip.\n",
      "       | Downloading package pil to /root/nltk_data...\n",
      "       |   Unzipping corpora/pil.zip.\n",
      "       | Downloading package pl196x to /root/nltk_data...\n",
      "       |   Unzipping corpora/pl196x.zip.\n",
      "       | Downloading package ppattach to /root/nltk_data...\n",
      "       |   Unzipping corpora/ppattach.zip.\n",
      "       | Downloading package problem_reports to /root/nltk_data...\n",
      "       |   Unzipping corpora/problem_reports.zip.\n",
      "       | Downloading package propbank to /root/nltk_data...\n",
      "       | Downloading package ptb to /root/nltk_data...\n",
      "       |   Unzipping corpora/ptb.zip.\n",
      "       | Downloading package product_reviews_1 to /root/nltk_data...\n",
      "       |   Unzipping corpora/product_reviews_1.zip.\n",
      "       | Downloading package product_reviews_2 to /root/nltk_data...\n",
      "       |   Unzipping corpora/product_reviews_2.zip.\n",
      "       | Downloading package pros_cons to /root/nltk_data...\n",
      "       |   Unzipping corpora/pros_cons.zip.\n",
      "       | Downloading package qc to /root/nltk_data...\n",
      "       |   Unzipping corpora/qc.zip.\n",
      "       | Downloading package reuters to /root/nltk_data...\n",
      "       | Downloading package rte to /root/nltk_data...\n",
      "       |   Unzipping corpora/rte.zip.\n",
      "       | Downloading package semcor to /root/nltk_data...\n",
      "       | Downloading package senseval to /root/nltk_data...\n",
      "       |   Unzipping corpora/senseval.zip.\n",
      "       | Downloading package sentiwordnet to /root/nltk_data...\n",
      "       |   Unzipping corpora/sentiwordnet.zip.\n",
      "       | Downloading package sentence_polarity to /root/nltk_data...\n",
      "       |   Unzipping corpora/sentence_polarity.zip.\n",
      "       | Downloading package shakespeare to /root/nltk_data...\n",
      "       |   Unzipping corpora/shakespeare.zip.\n",
      "       | Downloading package sinica_treebank to /root/nltk_data...\n",
      "       |   Unzipping corpora/sinica_treebank.zip.\n",
      "       | Downloading package smultron to /root/nltk_data...\n",
      "       |   Unzipping corpora/smultron.zip.\n",
      "       | Downloading package state_union to /root/nltk_data...\n",
      "       |   Unzipping corpora/state_union.zip.\n",
      "       | Downloading package stopwords to /root/nltk_data...\n",
      "       |   Unzipping corpora/stopwords.zip.\n",
      "       | Downloading package subjectivity to /root/nltk_data...\n",
      "       |   Unzipping corpora/subjectivity.zip.\n",
      "       | Downloading package swadesh to /root/nltk_data...\n",
      "       |   Unzipping corpora/swadesh.zip.\n",
      "       | Downloading package switchboard to /root/nltk_data...\n",
      "       |   Unzipping corpora/switchboard.zip.\n",
      "       | Downloading package timit to /root/nltk_data...\n",
      "       |   Unzipping corpora/timit.zip.\n",
      "       | Downloading package toolbox to /root/nltk_data...\n",
      "       |   Unzipping corpora/toolbox.zip.\n",
      "       | Downloading package treebank to /root/nltk_data...\n",
      "       |   Unzipping corpora/treebank.zip.\n",
      "       | Downloading package twitter_samples to /root/nltk_data...\n",
      "       |   Unzipping corpora/twitter_samples.zip.\n",
      "       | Downloading package udhr to /root/nltk_data...\n",
      "       |   Unzipping corpora/udhr.zip.\n",
      "       | Downloading package udhr2 to /root/nltk_data...\n",
      "       |   Unzipping corpora/udhr2.zip.\n",
      "       | Downloading package unicode_samples to /root/nltk_data...\n",
      "       |   Unzipping corpora/unicode_samples.zip.\n",
      "       | Downloading package universal_treebanks_v20 to\n",
      "       |     /root/nltk_data...\n",
      "       | Downloading package verbnet to /root/nltk_data...\n",
      "       |   Unzipping corpora/verbnet.zip.\n",
      "       | Downloading package verbnet3 to /root/nltk_data...\n",
      "       |   Unzipping corpora/verbnet3.zip.\n",
      "       | Downloading package webtext to /root/nltk_data...\n",
      "       |   Unzipping corpora/webtext.zip.\n",
      "       | Downloading package wordnet to /root/nltk_data...\n",
      "       |   Unzipping corpora/wordnet.zip.\n",
      "       | Downloading package wordnet_ic to /root/nltk_data...\n",
      "       |   Unzipping corpora/wordnet_ic.zip.\n",
      "       | Downloading package words to /root/nltk_data...\n",
      "       |   Unzipping corpora/words.zip.\n",
      "       | Downloading package ycoe to /root/nltk_data...\n",
      "       |   Unzipping corpora/ycoe.zip.\n",
      "       | Downloading package rslp to /root/nltk_data...\n",
      "       |   Unzipping stemmers/rslp.zip.\n",
      "       | Downloading package maxent_treebank_pos_tagger to\n",
      "       |     /root/nltk_data...\n",
      "       |   Unzipping taggers/maxent_treebank_pos_tagger.zip.\n",
      "       | Downloading package universal_tagset to /root/nltk_data...\n",
      "       |   Unzipping taggers/universal_tagset.zip.\n",
      "       | Downloading package maxent_ne_chunker to /root/nltk_data...\n",
      "       |   Unzipping chunkers/maxent_ne_chunker.zip.\n",
      "       | Downloading package punkt to /root/nltk_data...\n",
      "       |   Unzipping tokenizers/punkt.zip.\n",
      "       | Downloading package book_grammars to /root/nltk_data...\n",
      "       |   Unzipping grammars/book_grammars.zip.\n",
      "       | Downloading package sample_grammars to /root/nltk_data...\n",
      "       |   Unzipping grammars/sample_grammars.zip.\n",
      "       | Downloading package spanish_grammars to /root/nltk_data...\n",
      "       |   Unzipping grammars/spanish_grammars.zip.\n",
      "       | Downloading package basque_grammars to /root/nltk_data...\n",
      "       |   Unzipping grammars/basque_grammars.zip.\n",
      "       | Downloading package large_grammars to /root/nltk_data...\n",
      "       |   Unzipping grammars/large_grammars.zip.\n",
      "       | Downloading package tagsets to /root/nltk_data...\n",
      "       |   Unzipping help/tagsets.zip.\n",
      "       | Downloading package snowball_data to /root/nltk_data...\n",
      "       | Downloading package bllip_wsj_no_aux to /root/nltk_data...\n",
      "       |   Unzipping models/bllip_wsj_no_aux.zip.\n",
      "       | Downloading package word2vec_sample to /root/nltk_data...\n",
      "       |   Unzipping models/word2vec_sample.zip.\n",
      "       | Downloading package panlex_swadesh to /root/nltk_data...\n",
      "       | Downloading package mte_teip5 to /root/nltk_data...\n",
      "       |   Unzipping corpora/mte_teip5.zip.\n",
      "       | Downloading package averaged_perceptron_tagger to\n",
      "       |     /root/nltk_data...\n",
      "       |   Unzipping taggers/averaged_perceptron_tagger.zip.\n",
      "       | Downloading package averaged_perceptron_tagger_ru to\n",
      "       |     /root/nltk_data...\n",
      "       |   Unzipping taggers/averaged_perceptron_tagger_ru.zip.\n",
      "       | Downloading package perluniprops to /root/nltk_data...\n",
      "       |   Unzipping misc/perluniprops.zip.\n",
      "       | Downloading package nonbreaking_prefixes to\n",
      "       |     /root/nltk_data...\n",
      "       |   Unzipping corpora/nonbreaking_prefixes.zip.\n",
      "       | Downloading package vader_lexicon to /root/nltk_data...\n",
      "       | Downloading package porter_test to /root/nltk_data...\n",
      "       |   Unzipping stemmers/porter_test.zip.\n",
      "       | Downloading package wmt15_eval to /root/nltk_data...\n",
      "       |   Unzipping models/wmt15_eval.zip.\n",
      "       | Downloading package mwa_ppdb to /root/nltk_data...\n",
      "       |   Unzipping misc/mwa_ppdb.zip.\n",
      "       | \n",
      "     Done downloading collection all\n",
      "\n",
      "---------------------------------------------------------------------------\n",
      "    d) Download   l) List    u) Update   c) Config   h) Help   q) Quit\n",
      "---------------------------------------------------------------------------\n",
      "Downloader> q\n"
     ]
    },
    {
     "data": {
      "text/plain": [
       "True"
      ]
     },
     "execution_count": 4,
     "metadata": {
      "tags": []
     },
     "output_type": "execute_result"
    }
   ],
   "source": [
    "import nltk\n",
    "nltk.download()"
   ]
  },
  {
   "cell_type": "markdown",
   "metadata": {
    "id": "EHI_s7W78H1v"
   },
   "source": [
    "Testing the downloaded content "
   ]
  },
  {
   "cell_type": "code",
   "execution_count": null,
   "metadata": {
    "id": "a0kmkXNp7O2n"
   },
   "outputs": [],
   "source": [
    "from nltk.corpus import brown"
   ]
  },
  {
   "cell_type": "code",
   "execution_count": null,
   "metadata": {
    "colab": {
     "base_uri": "https://localhost:8080/"
    },
    "id": "8lwWo4_l7Ygn",
    "outputId": "a9b1a2e6-0df2-4097-87d8-41c2c135a456"
   },
   "outputs": [
    {
     "data": {
      "text/plain": [
       "['The', 'Fulton', 'County', 'Grand', 'Jury', 'said', ...]"
      ]
     },
     "execution_count": 6,
     "metadata": {
      "tags": []
     },
     "output_type": "execute_result"
    }
   ],
   "source": [
    "brown.words()"
   ]
  },
  {
   "cell_type": "markdown",
   "metadata": {
    "id": "QskDyT0F8M9f"
   },
   "source": [
    "Run NLTK Script"
   ]
  },
  {
   "cell_type": "markdown",
   "metadata": {
    "id": "M3XwM-dy8UOZ"
   },
   "source": [
    "In this program, the objective was to remove all type of punctuations from given text. We imported \"RegexpTokenizer\" which is a module of NLTK. It removes all the expression, symbol, character, numeric or any things whatever you want.\n",
    "You just have passed the regular Expression to the \"RegexpTokenizer\" module.\n",
    "Further, we tokenized the word using \"tokenize\" module. The output is stored in the \"filterdText\" variable.\n",
    "And printed them using \"print().\""
   ]
  },
  {
   "cell_type": "code",
   "execution_count": null,
   "metadata": {
    "colab": {
     "base_uri": "https://localhost:8080/"
    },
    "id": "Iv844QPL8inR",
    "outputId": "f49b9ca0-ee39-4521-c90b-17007f943945"
   },
   "outputs": [
    {
     "name": "stdout",
     "output_type": "stream",
     "text": [
      "['Hello', 'Student', 'You', 'have', 'build', 'a', 'very', 'good', 'site', 'and', 'I', 'love', 'visiting', 'your', 'site']\n"
     ]
    }
   ],
   "source": [
    "from nltk.tokenize import RegexpTokenizer\n",
    "tokenizer = RegexpTokenizer(r'\\w+')\n",
    "filterdText=tokenizer.tokenize('Hello Student, You have build a very good site and I love visiting your site.')\n",
    "print(filterdText)"
   ]
  },
  {
   "cell_type": "markdown",
   "metadata": {
    "id": "B4PohLzY9CCC"
   },
   "source": [
    "**What is Tokenization?** <br>\n",
    "Tokenization is the process by which big quantity of text is divided into smaller parts called tokens.\n",
    "\n",
    "Natural language processing is used for building applications such as Text classification, intelligent chatbot, sentimental analysis, language translation, etc. It becomes vital to understand the pattern in the text to achieve the above-stated purpose. These tokens are very useful for finding such patterns as well as is considered as a base step for stemming and lemmatization.\n",
    "\n",
    "For the time being, don't worry about stemming and lemmatization but treat them as steps for textual data cleaning using NLP (Natural language processing). We will discuss stemming and lemmatization later in the tutorial. Tasks such as Text classification or spam filtering makes use of NLP along with deep learning libraries such as Keras and Tensorflow.\n",
    "\n",
    "Natural Language toolkit has very important module tokenize which further comprises of sub-modules\n",
    "\n",
    "*word tokenize <br>\n",
    "*sentence tokenize\n",
    "\n",
    "\n",
    "\n",
    "**Tokenization of words**<br>\n",
    "We use the method word_tokenize() to split a sentence into words. The output of word tokenization can be converted to Data Frame for better text understanding in machine learning applications. It can also be provided as input for further text cleaning steps such as punctuation removal, numeric character removal or stemming. Machine learning models need numeric data to be trained and make a prediction. Word tokenization becomes a crucial part of the text (string) to numeric data conversion. Please read about Bag of Words or CountVectorizer. Please refer to below example to understand the theory better."
   ]
  },
  {
   "cell_type": "code",
   "execution_count": null,
   "metadata": {
    "colab": {
     "base_uri": "https://localhost:8080/"
    },
    "id": "FX8ANtq_9jl2",
    "outputId": "6cbe2a0e-9d98-42ff-a698-c44d1e33c3b3"
   },
   "outputs": [
    {
     "name": "stdout",
     "output_type": "stream",
     "text": [
      "['God', 'is', 'Great', '!', 'I', 'won', 'a', 'lottery', '.']\n"
     ]
    }
   ],
   "source": [
    "from nltk.tokenize import word_tokenize\n",
    "text = \"God is Great! I won a lottery.\"\n",
    "print(word_tokenize(text))"
   ]
  },
  {
   "cell_type": "markdown",
   "metadata": {
    "id": "kDahZFKT9-9_"
   },
   "source": [
    "word_tokenize module is imported from the NLTK library.\n",
    "A variable \"text\" is initialized with two sentences.\n",
    "Text variable is passed in word_tokenize module and printed the result. This module breaks each word with punctuation which you can see in the output."
   ]
  },
  {
   "cell_type": "markdown",
   "metadata": {
    "id": "rheJpReU-AgJ"
   },
   "source": [
    "**Tokenization of Sentences** <br>\n",
    "Sub-module available for the above is sent_tokenize. An obvious question in your mind would be why sentence tokenization is needed when we have the option of word tokenization. Imagine you need to count average words per sentence, how you will calculate? For accomplishing such a task, you need both sentence tokenization as well as words to calculate the ratio. Such output serves as an important feature for machine training as the answer would be numeric.\n",
    "\n",
    "Check the below example to learn how sentence tokenization is different from words tokenization."
   ]
  },
  {
   "cell_type": "code",
   "execution_count": null,
   "metadata": {
    "colab": {
     "base_uri": "https://localhost:8080/"
    },
    "id": "LR9SWoxP-NOJ",
    "outputId": "5c08de68-e61e-4efe-b3bd-15453a30980b"
   },
   "outputs": [
    {
     "name": "stdout",
     "output_type": "stream",
     "text": [
      "['God is Great!', 'I won a lottery.']\n"
     ]
    }
   ],
   "source": [
    "from nltk.tokenize import sent_tokenize\n",
    "text = \"God is Great! I won a lottery.\"\n",
    "print(sent_tokenize(text))"
   ]
  },
  {
   "cell_type": "markdown",
   "metadata": {
    "id": "8qYGDz20-Zli"
   },
   "source": [
    "In a line like the previous program, imported the sent_tokenize module.\n",
    "We have taken the same sentence. Further sent module parsed that sentences and show output. It is clear that this function breaks each sentence."
   ]
  },
  {
   "cell_type": "markdown",
   "metadata": {
    "id": "Ykrg6u7v-g5E"
   },
   "source": [
    "**POS Tagging**<br>\n",
    "Parts of speech Tagging is responsible for reading the text in a language and assigning some specific token (Parts of Speech) to each word.\n",
    "\n",
    "e.g.\n",
    "\n",
    "Input: Everything to permit us.\n",
    "\n",
    "Output: [('Everything', NN),('to', TO), ('permit', VB), ('us', PRP)]\n",
    "\n",
    "Steps Involved:\n",
    "\n",
    "Tokenize text (word_tokenize)\n",
    "apply pos_tag to above step that is nltk.pos_tag(tokenize_text)"
   ]
  },
  {
   "cell_type": "markdown",
   "metadata": {
    "id": "mlsY1EWg_Hj6"
   },
   "source": [
    "![image.png](data:image/png;base64,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)\n",
    "![image.png](data:image/png;base64,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)\n"
   ]
  },
  {
   "cell_type": "markdown",
   "metadata": {
    "id": "degS_374_l5V"
   },
   "source": [
    "**Chunking**<br>\n",
    "Chunking is used to add more structure to the sentence by following parts of speech (POS) tagging. It is also known as shallow parsing. The resulted group of words is called \"chunks.\" In shallow parsing, there is maximum one level between roots and leaves while deep parsing comprises of more than one level. Shallow Parsing is also called light parsing or chunking.\n",
    "\n",
    "The primary usage of chunking is to make a group of \"noun phrases.\" The parts of speech are combined with regular expressions.\n",
    "\n",
    "**Rules for Chunking:**\n",
    "\n",
    "There are no pre-defined rules, but you can combine them according to need and requirement.\n",
    "\n",
    "For example, you need to tag Noun, verb (past tense), adjective, and coordinating junction from the sentence. You can use the rule as below\n",
    "\n",
    "chunk:{<NN.?>*<VBD.?>*<JJ.?>*<CC>?}\n",
    "\n",
    "Following table shows what the various symbol means:\n",
    "![image.png](data:image/png;base64,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)\n",
    "\n",
    "\n"
   ]
  },
  {
   "cell_type": "code",
   "execution_count": null,
   "metadata": {
    "colab": {
     "base_uri": "https://localhost:8080/"
    },
    "id": "OGhi5k6-_8IR",
    "outputId": "44295ac6-bff6-4cb6-8cd3-e47f30170cf6"
   },
   "outputs": [
    {
     "name": "stdout",
     "output_type": "stream",
     "text": [
      "After Split: ['learn', 'Natural', 'Language', 'Processing', 'and', 'make', 'study', 'easy']\n",
      "After Token: [('learn', 'JJ'), ('Natural', 'NNP'), ('Language', 'NNP'), ('Processing', 'NNP'), ('and', 'CC'), ('make', 'VB'), ('study', 'NN'), ('easy', 'JJ')]\n",
      "After Regex: chunk.RegexpParser with 1 stages:\n",
      "RegexpChunkParser with 1 rules:\n",
      "       <ChunkRule: '<NN.?>*<VBD.?>*<JJ.?>*<CC>?'>\n",
      "After Chunking (S\n",
      "  (mychunk learn/JJ)\n",
      "  (mychunk Natural/NNP Language/NNP Processing/NNP and/CC)\n",
      "  make/VB\n",
      "  (mychunk study/NN easy/JJ))\n"
     ]
    }
   ],
   "source": [
    "from nltk import pos_tag\n",
    "from nltk import RegexpParser\n",
    "text =\"learn Natural Language Processing and make study easy\".split()\n",
    "print(\"After Split:\",text)\n",
    "tokens_tag = pos_tag(text)\n",
    "print(\"After Token:\",tokens_tag)\n",
    "patterns= \"\"\"mychunk:{<NN.?>*<VBD.?>*<JJ.?>*<CC>?}\"\"\"\n",
    "chunker = RegexpParser(patterns)\n",
    "print(\"After Regex:\",chunker)\n",
    "output = chunker.parse(tokens_tag)\n",
    "print(\"After Chunking\",output)"
   ]
  },
  {
   "cell_type": "markdown",
   "metadata": {
    "id": "6X5plJyrAgPU"
   },
   "source": [
    "**What is Stemming?** <br>\n",
    "Stemming is a kind of normalization for words. Normalization is a technique where a set of words in a sentence are converted into a sequence to shorten its lookup. The words which have the same meaning but have some variation according to the context or sentence are normalized.\n",
    "\n",
    "In another word, there is one root word, but there are many variations of the same words. For example, the root word is \"eat\" and it's variations are \"eats, eating, eaten and like so\". In the same way, with the help of Stemming, we can find the root word of any variations.\n",
    "\n",
    "For example\n",
    "\n",
    "He was riding.\t\n",
    "He was taking the ride.<br>\n",
    "In the above two sentences, the meaning is the same, i.e., riding activity in the past. A human can easily understand that both meanings are the same. But for machines, both sentences are different. Thus it became hard to convert it into the same data row. In case we do not provide the same data-set, then machine fails to predict. So it is necessary to differentiate the meaning of each word to prepare the dataset for machine learning. And here stemming is used to categorize the same type of data by getting its root word.\n",
    "\n",
    "Primis Player Placeholder\n",
    "Let's implement this with a Python program.NLTK has an algorithm named as \"PorterStemmer\". This algorithm accepts the list of tokenized word and stems it into root word.\n"
   ]
  },
  {
   "cell_type": "code",
   "execution_count": null,
   "metadata": {
    "colab": {
     "base_uri": "https://localhost:8080/"
    },
    "id": "MdMZw-ArAt4s",
    "outputId": "431920e1-0b5a-46f8-e8c8-84c51311d5ce"
   },
   "outputs": [
    {
     "name": "stdout",
     "output_type": "stream",
     "text": [
      "wait\n",
      "wait\n",
      "wait\n",
      "wait\n"
     ]
    }
   ],
   "source": [
    "from nltk.stem import PorterStemmer\n",
    "e_words= [\"wait\", \"waiting\", \"waited\", \"waits\"]\n",
    "ps =PorterStemmer()\n",
    "for w in e_words:\n",
    "    rootWord=ps.stem(w)\n",
    "    print(rootWord)"
   ]
  },
  {
   "cell_type": "markdown",
   "metadata": {
    "id": "ZZ5ZKHifAxrU"
   },
   "source": [
    "There is a stem module in NLTk which is imported. If ifyou import the complete module, then the program becomes heavy as it contains thousands of lines of codes. So from the entire stem module, we only imported \"PorterStemmer.\"\n",
    "We prepared a dummy list of variation data of the same word.\n",
    "An object is created which belongs to class nltk.stem.porter.PorterStemmer.\n",
    "Further, we passed it to PorterStemmer one by one using \"for\" loop. Finally, we got output root word of each word mentioned in the list.\n",
    "From the above explanation, it can also be concluded that stemming is considered as an important preprocessing step because it removed redundancy in the data and variations in the same word. As a result, data is filtered which will help in better machine training.\n",
    "\n",
    "Now we pass a complete sentence and check for its behavior as an output."
   ]
  },
  {
   "cell_type": "code",
   "execution_count": null,
   "metadata": {
    "colab": {
     "base_uri": "https://localhost:8080/"
    },
    "id": "yevo2_SjA5jt",
    "outputId": "1fcc88db-f866-42ff-ffe1-5cd8d59032fc"
   },
   "outputs": [
    {
     "name": "stdout",
     "output_type": "stream",
     "text": [
      "hello\n",
      "student\n",
      ",\n",
      "you\n",
      "have\n",
      "to\n",
      "build\n",
      "a\n",
      "veri\n",
      "good\n",
      "site\n",
      "and\n",
      "I\n",
      "love\n",
      "visit\n",
      "your\n",
      "site\n",
      ".\n"
     ]
    }
   ],
   "source": [
    "from nltk.stem import PorterStemmer\n",
    "from nltk.tokenize import sent_tokenize, word_tokenize\n",
    "sentence=\"Hello Student, You have to build a very good site and I love visiting your site.\"\n",
    "words = word_tokenize(sentence)\n",
    "ps = PorterStemmer()\n",
    "for w in words:\n",
    "\trootWord=ps.stem(w)\n",
    "\tprint(rootWord)"
   ]
  },
  {
   "cell_type": "markdown",
   "metadata": {
    "id": "UClO9JyfBHkW"
   },
   "source": [
    "Package PorterStemer is imported from module stem\n",
    "Packages for tokenization of sentence as well as words are imported\n",
    "A sentence is written which is to be tokenized in the next step.\n",
    "Word tokenization is implemented in this step.\n",
    "An object for PorterStemmer is created here.\n",
    "Loop is run and stemming of each word is done using the object created in the code line 5"
   ]
  },
  {
   "cell_type": "markdown",
   "metadata": {
    "id": "zlQY_nkmBJL7"
   },
   "source": [
    "**What is Lemmatization?**<br>\n",
    "Lemmatization is the algorithmic process of finding the lemma of a word depending on their meaning. Lemmatization usually refers to the morphological analysis of words, which aims to remove inflectional endings. It helps in returning the base or dictionary form of a word, which is known as the lemma. The NLTK Lemmatization method is based on WorldNet's built-in morph function. Text preprocessing includes both stemming as well as lemmatization. Many people find the two terms confusing. Some treat these as same, but there is a difference between these both. Lemmatization is preferred over the former because of the below reason.\n",
    "\n",
    "**Why is Lemmatization better than Stemming?**<br>\n",
    "Stemming algorithm works by cutting the suffix from the word. In a broader sense cuts either the beginning or end of the word.\n",
    "\n",
    "On the contrary, Lemmatization is a more powerful operation, and it takes into consideration morphological analysis of the words. It returns the lemma which is the base form of all its inflectional forms. In-depth linguistic knowledge is required to create dictionaries and look for the proper form of the word. Stemming is a general operation while lemmatization is an intelligent operation where the proper form will be looked in the dictionary. Hence, lemmatization helps in forming better machine learning features.\n"
   ]
  },
  {
   "cell_type": "code",
   "execution_count": null,
   "metadata": {
    "colab": {
     "base_uri": "https://localhost:8080/"
    },
    "id": "_ke9fFofBYfZ",
    "outputId": "16024b05-38b9-4314-bc8d-4068e123137e"
   },
   "outputs": [
    {
     "name": "stdout",
     "output_type": "stream",
     "text": [
      "Stemming for studies is studi\n",
      "Stemming for studying is studi\n",
      "Stemming for cries is cri\n",
      "Stemming for cry is cri\n"
     ]
    }
   ],
   "source": [
    "from nltk.stem.porter import PorterStemmer\n",
    "porter_stemmer  = PorterStemmer()\n",
    "text = \"studies studying cries cry\"\n",
    "tokenization = nltk.word_tokenize(text)\n",
    "for w in tokenization:\n",
    "  print(\"Stemming for {} is {}\".format(w,porter_stemmer.stem(w))) "
   ]
  },
  {
   "cell_type": "code",
   "execution_count": null,
   "metadata": {
    "colab": {
     "base_uri": "https://localhost:8080/"
    },
    "id": "KetPxi77CFnD",
    "outputId": "c3d7a973-a695-4b79-9f8c-3a1eafcd06a8"
   },
   "outputs": [
    {
     "name": "stdout",
     "output_type": "stream",
     "text": [
      "Lemma for studies is study\n",
      "Lemma for studying is studying\n",
      "Lemma for cries is cry\n",
      "Lemma for cry is cry\n"
     ]
    }
   ],
   "source": [
    "from nltk.stem import WordNetLemmatizer\n",
    "wordnet_lemmatizer = WordNetLemmatizer()\n",
    "text = \"studies studying cries cry\"\n",
    "tokenization = nltk.word_tokenize(text)\n",
    "for w in tokenization:\n",
    "    print(\"Lemma for {} is {}\".format(w, wordnet_lemmatizer.lemmatize(w)))  "
   ]
  },
  {
   "cell_type": "markdown",
   "metadata": {
    "id": "7rB8RjjbClta"
   },
   "source": [
    "**WordNet with NLTK: Finding Synonyms for words in Python**<br>\n",
    "\n",
    "What is Wordnet?\n",
    "Wordnet is an NLTK corpus reader, a lexical database for English. It can be used to find the meaning of words, synonym or antonym. One can define it as a semantically oriented dictionary of English. It is imported with the following command:\n",
    "\n",
    "from nltk.corpus import wordnet as test<br>\n",
    "Stats reveal that there are 155287 words and 117659 synonym sets included with English WordNet.<br>\n",
    "Synset: It is also called as synonym set or collection of synonym words. Let us check a example"
   ]
  },
  {
   "cell_type": "code",
   "execution_count": null,
   "metadata": {
    "colab": {
     "base_uri": "https://localhost:8080/"
    },
    "id": "JWSrXivHCwr1",
    "outputId": "ea4eb1fb-0afc-4a15-fee9-8b945b1b556a"
   },
   "outputs": [
    {
     "name": "stdout",
     "output_type": "stream",
     "text": [
      "[Synset('dog.n.01'), Synset('frump.n.01'), Synset('dog.n.03'), Synset('cad.n.01'), Synset('frank.n.02'), Synset('pawl.n.01'), Synset('andiron.n.01'), Synset('chase.v.01')]\n"
     ]
    }
   ],
   "source": [
    "from nltk.corpus import wordnet\n",
    "syns = wordnet.synsets(\"dog\")\n",
    "print(syns)"
   ]
  },
  {
   "cell_type": "markdown",
   "metadata": {
    "id": "F4EIevtKDDTd"
   },
   "source": [
    "**Lexical Relations:** These are semantic relations which are reciprocated. If there is a relationship between {x1,x2,...xn} and {y1,y2,...yn} then there is also relation between {y1,y2,...yn} and {x1,x2,...xn}. For example Synonym is the opposite of antonym or hypernyms and hyponym are type of lexical concept."
   ]
  },
  {
   "cell_type": "code",
   "execution_count": null,
   "metadata": {
    "colab": {
     "base_uri": "https://localhost:8080/"
    },
    "id": "DL4r1a_8DJ23",
    "outputId": "35c14e01-4a71-4a9b-caff-353ba12501a3"
   },
   "outputs": [
    {
     "name": "stdout",
     "output_type": "stream",
     "text": [
      "{'active_voice', 'participating', 'alive', 'dynamic', 'fighting', 'combat-ready', 'active_agent', 'active'}\n",
      "{'extinct', 'passive', 'quiet', 'passive_voice', 'dormant', 'stative', 'inactive'}\n"
     ]
    }
   ],
   "source": [
    "from nltk.corpus import wordnet\n",
    "synonyms = []\n",
    "antonyms = []\n",
    "\n",
    "for syn in wordnet.synsets(\"active\"):\n",
    "\tfor l in syn.lemmas():\n",
    "\t\tsynonyms.append(l.name())\n",
    "\t\tif l.antonyms():\n",
    "\t\t antonyms.append(l.antonyms()[0].name())\n",
    "\n",
    "print(set(synonyms))\n",
    "print(set(antonyms))"
   ]
  },
  {
   "cell_type": "markdown",
   "metadata": {
    "id": "C-5HDaLwDmt2"
   },
   "source": [
    "WordNet is a lexical database that has been used by a major search engine. From the WordNet, information about a given word or phrase can be calculated such as\n",
    "\n",
    "synonym (words having the same meaning)\n",
    "hypernyms (The generic term used to designate a class of specifics (i.e., meal is a breakfast), hyponyms (rice is a meal)\n",
    "holonyms (proteins, carbohydrates are part of meal)\n",
    "meronyms (meal is part of daily food intake)\n",
    "WordNet also provides information on co-ordinate terms, derivates, senses and more. It is used to find the similarities between any two words. It also holds information on the results of the related word. In short or nutshell one can treat it as Dictionary or Thesaurus. Going deeper in wordnet, it is divided into four total subnets such as\n",
    "\n",
    "Noun\n",
    "Verb\n",
    "Adjective\n",
    "Adverb\n",
    "It can be used in the area of artificial intelligence for text analysis. With the help of Wordnet, you can create your corpus for spelling checking, language translation, Spam detection and many more.\n",
    "\n",
    "In the same way, you can use this corpus and mold it to work some dynamic functionality. This is just like ready to made corpus for you. You can use it in your way."
   ]
  },
  {
   "cell_type": "markdown",
   "metadata": {
    "id": "sEd8iIyjHtH7"
   },
   "source": [
    "**Tagging Problems and Hidden Markov Model**<br>\n",
    "**Tagging Sentences**\n",
    "Tagging Sentence in a broader sense refers to the addition of labels of the verb, noun,etc.by the context of the sentence. Identification of POS tags is a complicated process. Thus generic tagging of POS is manually not possible as some words may have different (ambiguous) meanings according to the structure of the sentence. Conversion of text in the form of list is an important step before tagging as each word in the list is looped and counted for a particular tag. Please see the below code to understand it better.\n",
    "\n"
   ]
  },
  {
   "cell_type": "code",
   "execution_count": null,
   "metadata": {
    "colab": {
     "base_uri": "https://localhost:8080/"
    },
    "id": "mHnjXfndH9Wu",
    "outputId": "957251a3-6be3-43c4-d9c9-31ad0b7c9422"
   },
   "outputs": [
    {
     "name": "stdout",
     "output_type": "stream",
     "text": [
      "[('Hello', 'NNP'), ('student', 'NN'), (',', ','), ('You', 'PRP'), ('have', 'VBP'), ('to', 'TO'), ('build', 'VB'), ('a', 'DT'), ('very', 'RB'), ('good', 'JJ'), ('site', 'NN'), (',', ','), ('and', 'CC'), ('I', 'PRP'), ('love', 'VBP'), ('visiting', 'VBG'), ('your', 'PRP$'), ('site', 'NN'), ('.', '.')]\n"
     ]
    }
   ],
   "source": [
    "import nltk\n",
    "text = \"Hello student, You have to build a very good site, and I love visiting your site.\"\n",
    "sentence = nltk.sent_tokenize(text)\n",
    "for sent in sentence:\n",
    "\t print(nltk.pos_tag(nltk.word_tokenize(sent)))"
   ]
  },
  {
   "cell_type": "markdown",
   "metadata": {
    "id": "mlGSrf1cIWyc"
   },
   "source": [
    "In Corpus there are two types of POS taggers:\n",
    "\n",
    "Rule-Based\n",
    "Stochastic POS Taggers\n",
    "1.Rule-Based POS Tagger: For the words having ambiguous meaning, rule-based approach on the basis of contextual information is applied. It is done so by checking or analyzing the meaning of the preceding or the following word. Information is analyzed from the surrounding of the word or within itself. Therefore words are tagged by the grammatical rules of a particular language such as capitalization and punctuation. e.g., Brill's tagger.\n",
    "\n",
    "2.Stochastic POS Tagger: Different approaches such as frequency or probability are applied under this method. If a word is mostly tagged with a particular tag in training set then in the test sentence it is given that particular tag. The word tag is dependent not only on its own tag but also on the previous tag. This method is not always accurate. Another way is to calculate the probability of occurrence of a specific tag in a sentence. Thus the final tag is calculated by checking the highest probability of a word with a particular tag.\n",
    "\n",
    "Hidden Markov Model:\n",
    "Tagging Problems can also be modeled using HMM. It treats input tokens to be observable sequence while tags are considered as hidden states and goal is to determine the hidden state sequence. For example x = x1,x2,............,xn where x is a sequence of tokens while y = y1,y2,y3,y4.........ynis the hidden sequence."
   ]
  },
  {
   "cell_type": "markdown",
   "metadata": {
    "id": "a2KIvmSOIfxq"
   },
   "source": [
    "**COUNTING POS TAGS**<br>\n",
    "We have discussed various pos_tag in the previous section. In this particular tutorial, you will study how to count these tags. Counting tags are crucial for text classification as well as preparing the features for the Natural language-based operations. I will be discussing with you the approach which guru99 followed while preparing code along with a discussion of output. Hope this will help you.\n",
    "\n",
    "How to count Tags:\n",
    "\n",
    "Here first we will write working code and then we will write different steps to explain the code."
   ]
  },
  {
   "cell_type": "code",
   "execution_count": null,
   "metadata": {
    "colab": {
     "base_uri": "https://localhost:8080/"
    },
    "id": "5T1gPHfFIkm-",
    "outputId": "8e3fbb01-d1e7-4798-a01e-ea05c7ec8b11"
   },
   "outputs": [
    {
     "name": "stdout",
     "output_type": "stream",
     "text": [
      "Counter({'NN': 6, ',': 2, 'VBZ': 1, 'CD': 1, 'IN': 1, 'DT': 1, 'JJS': 1, 'NNS': 1, 'TO': 1, 'VB': 1, 'JJ': 1, 'CC': 1, 'RB': 1, 'JJR': 1, '.': 1})\n"
     ]
    }
   ],
   "source": [
    "from collections import Counter\n",
    "import nltk\n",
    "text = \" Amity online is one of the best sites to learn WEB, SAP, Ethical Hacking and much more online.\"\n",
    "lower_case = text.lower()\n",
    "tokens = nltk.word_tokenize(lower_case)\n",
    "tags = nltk.pos_tag(tokens)\n",
    "counts = Counter( tag for word,  tag in tags)\n",
    "print(counts)"
   ]
  },
  {
   "cell_type": "markdown",
   "metadata": {
    "id": "XyQn9VccI8_Q"
   },
   "source": [
    "**Frequency Distribution**<br>\n",
    "Frequency Distribution is referred to as the number of times an outcome of an experiment occurs. It is used to find the frequency of each word occurring in a document. It uses FreqDistclass and defined by the nltk.probabilty module.\n",
    "\n",
    "A frequency distribution is usually created by counting the samples of repeatedly running the experiment. The no of counts is incremented by one, each time. E.g.\n",
    "\n",
    "freq_dist = FreqDist()\n",
    "\n",
    "for the token in the document:\n",
    "\n",
    "freq_dist.inc(token.type())\n",
    "\n",
    "For any word, we can check how many times it occurred in a particular document. E.g.\n",
    "\n",
    "Count Method: freq_dist.count('and')This expression returns the value of the number of times 'and' occurred. It is called the count method.\n",
    "Frequency Method: freq_dist.freq('and')This the expression returns frequency of a given sample.\n",
    "We will write a small program and will explain its working in detail. We will write some text and will calculate the frequency distribution of each word in the text."
   ]
  },
  {
   "cell_type": "code",
   "execution_count": null,
   "metadata": {
    "colab": {
     "base_uri": "https://localhost:8080/",
     "height": 323
    },
    "id": "_aQTHCi9IWaj",
    "outputId": "8867d6df-756e-4041-a38b-e82fb9a95b5f"
   },
   "outputs": [
    {
     "data": {
      "image/png": "[encoded data removed]",
      "text/plain": [
       "<Figure size 432x288 with 1 Axes>"
      ]
     },
     "metadata": {
      "needs_background": "light",
      "tags": []
     },
     "output_type": "display_data"
    }
   ],
   "source": [
    "import nltk\n",
    "a = \"AMity University is one of the best university who teaches subjects like maths, science, computer science, machie learning, cloud computing\"\n",
    "words = nltk.tokenize.word_tokenize(a)\n",
    "fd = nltk.FreqDist(words)\n",
    "fd.plot()"
   ]
  },
  {
   "cell_type": "markdown",
   "metadata": {
    "id": "bhmwGBgrJcQY"
   },
   "source": [
    "**Collocations: Bigrams and Trigrams**<br>\n",
    "What is Collocations?\n",
    "Collocations are the pairs of words occurring together many times in a document. It is calculated by the number of those pair occurring together to the overall word count of the document.\n",
    "\n",
    "Consider electromagnetic spectrum with words like ultraviolet rays, infrared rays.\n",
    "The words ultraviolet and rays are not used individually and hence can be treated as Collocation. Another example is the CT Scan. We don't say CT and Scan separately, and hence they are also treated as collocation.\n",
    "\n",
    "We can say that finding collocations requires calculating the frequencies of words and their appearance in the context of other words. These specific collections of words require filtering to retain useful content terms. Each gram of words may then be scored according to some association measure, to determine the relative likelihood of each Ingram being a collocation.\n",
    "\n",
    "Collocation can be categorized into two types-\n",
    "\n",
    "Bigrams combination of two words\n",
    "Trigramscombinationof three words\n",
    "Bigrams and Trigrams provide more meaningful and useful features for the feature extraction stage. These are especially useful in text-based sentimental analysis."
   ]
  },
  {
   "cell_type": "code",
   "execution_count": null,
   "metadata": {
    "colab": {
     "base_uri": "https://localhost:8080/"
    },
    "id": "ieVrvCGtJomF",
    "outputId": "e84e09c3-5e33-4998-dee6-5ddf09ec2eed"
   },
   "outputs": [
    {
     "name": "stdout",
     "output_type": "stream",
     "text": [
      "[('Machine', 'Learning'), ('Learning', 'is'), ('is', 'a'), ('a', 'totally'), ('totally', 'new'), ('new', 'kind'), ('kind', 'of'), ('of', 'learning'), ('learning', 'experience'), ('experience', '.')]\n"
     ]
    }
   ],
   "source": [
    "text = \"Machine Learning is a totally new kind of learning experience.\"\n",
    "Tokens = nltk.word_tokenize(text)\n",
    "output = list(nltk.bigrams(Tokens))\n",
    "print(output)"
   ]
  },
  {
   "cell_type": "code",
   "execution_count": null,
   "metadata": {
    "colab": {
     "base_uri": "https://localhost:8080/"
    },
    "id": "XYyypvd9Jybh",
    "outputId": "0dbe4773-41ce-4fb5-ce3d-5f487e6dba23"
   },
   "outputs": [
    {
     "name": "stdout",
     "output_type": "stream",
     "text": [
      "[('machine', 'learning', 'is'), ('learning', 'is', 'a'), ('is', 'a', 'totally'), ('a', 'totally', 'new'), ('totally', 'new', 'kind'), ('new', 'kind', 'of'), ('kind', 'of', 'learning'), ('of', 'learning', 'experience'), ('learning', 'experience', '.')]\n"
     ]
    }
   ],
   "source": [
    "text = \"machine learning is a totally new kind of learning experience.\"\n",
    "Tokens = nltk.word_tokenize(text)\n",
    "output = list(nltk.trigrams(Tokens))\n",
    "print(output)"
   ]
  },
  {
   "cell_type": "code",
   "execution_count": null,
   "metadata": {
    "id": "7DXJOgEA3pln"
   },
   "outputs": [],
   "source": []
  }
 ],
 "metadata": {
  "colab": {
   "collapsed_sections": [],
   "name": "Copy of NLTK.ipynb",
   "provenance": []
  },
  "kernelspec": {
   "display_name": "Python 3",
   "language": "python",
   "name": "python3"
  },
  "language_info": {
   "codemirror_mode": {
    "name": "ipython",
    "version": 3
   },
   "file_extension": ".py",
   "mimetype": "text/x-python",
   "name": "python",
   "nbconvert_exporter": "python",
   "pygments_lexer": "ipython3",
   "version": "3.7.5"
  }
 },
 "nbformat": 4,
 "nbformat_minor": 1
}
