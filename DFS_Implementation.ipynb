{
 "cells": [
  {
   "cell_type": "code",
   "execution_count": 6,
   "metadata": {},
   "outputs": [
    {
     "name": "stdout",
     "output_type": "stream",
     "text": [
      "\n",
      "DFS using iteration_stack\n",
      "S\n",
      "A\n",
      "D\n",
      "G\n",
      "B\n",
      "E\n",
      "C\n",
      "F\n",
      "DFS using recursion_stack\n",
      "S\n",
      "A\n",
      "D\n",
      "G\n",
      "B\n",
      "E\n",
      "C\n",
      "F\n"
     ]
    }
   ],
   "source": [
    "# Adjacency Graph\n",
    "# S is starting node\n",
    "myGraph = {\n",
    "        'S': ['A', 'B', 'C'],\n",
    "        'A': ['D'],\n",
    "        'B': ['E'],\n",
    "        'C': ['F'],\n",
    "        'D': ['G'],\n",
    "        'E': [],\n",
    "        'F': [],\n",
    "        'G': []\n",
    "}\n",
    "\n",
    "# Depth First Search using Iteration\n",
    "def stack_dfs(start):\n",
    "    stack.append(start)                     # Starting with S\n",
    "    visited.add(start)\n",
    "    print(start)\n",
    "    while len(stack) != 0:\n",
    "        flag = False                        # Checking Unvisited Nodes\n",
    "        for adjacent in myGraph[stack[-1]]: # Checking all adjacent Nodes\n",
    "            if adjacent not in visited:\n",
    "                print(adjacent)\n",
    "                stack.append(adjacent)      # New unvisited node is pushed\n",
    "                visited.add(adjacent)\n",
    "                flag = True\n",
    "                break\n",
    "        if flag == False:                   # Visiting all adjacent nodes\n",
    "            stack.pop()                     # Remove from Stack\n",
    "\n",
    "stack = []\n",
    "visited = set()\n",
    "print('\\nDFS using iteration_stack')\n",
    "stack_dfs('S')                              # Iteration_Stack function call with start\n",
    "\n",
    "# Depth First Search using Recursion\n",
    "def recursion_dfs(node):\n",
    "    if node not in visited:                 # Check if node is visited or not\n",
    "        print(node)\n",
    "        visited.add(node)                   # Add node to set of visited nodes\n",
    "        for adjacent in myGraph[node]:      # Perform DFS for adjacent nodes\n",
    "            recursion_dfs(adjacent)            \n",
    "            \n",
    "visited = set()\n",
    "print('DFS using recursion_stack')\n",
    "recursion_dfs('S')                          # Recursion_Stack function call with start"
   ]
  },
  {
   "cell_type": "code",
   "execution_count": null,
   "metadata": {},
   "outputs": [],
   "source": []
  }
 ],
 "metadata": {
  "kernelspec": {
   "display_name": "Python 3",
   "language": "python",
   "name": "python3"
  },
  "language_info": {
   "codemirror_mode": {
    "name": "ipython",
    "version": 3
   },
   "file_extension": ".py",
   "mimetype": "text/x-python",
   "name": "python",
   "nbconvert_exporter": "python",
   "pygments_lexer": "ipython3",
   "version": "3.7.5"
  }
 },
 "nbformat": 4,
 "nbformat_minor": 4
}
